{
 "cells": [
  {
   "cell_type": "code",
   "execution_count": 9,
   "id": "e4fa3329",
   "metadata": {},
   "outputs": [
    {
     "name": "stdout",
     "output_type": "stream",
     "text": [
      "['../Plots/Animation/Frame_0.png', '../Plots/Animation/Frame_1.png', '../Plots/Animation/Frame_10.png', '../Plots/Animation/Frame_11.png', '../Plots/Animation/Frame_12.png', '../Plots/Animation/Frame_13.png', '../Plots/Animation/Frame_14.png', '../Plots/Animation/Frame_15.png', '../Plots/Animation/Frame_16.png', '../Plots/Animation/Frame_17.png', '../Plots/Animation/Frame_18.png', '../Plots/Animation/Frame_19.png', '../Plots/Animation/Frame_2.png', '../Plots/Animation/Frame_20.png', '../Plots/Animation/Frame_21.png', '../Plots/Animation/Frame_22.png', '../Plots/Animation/Frame_23.png', '../Plots/Animation/Frame_24.png', '../Plots/Animation/Frame_25.png', '../Plots/Animation/Frame_26.png', '../Plots/Animation/Frame_27.png', '../Plots/Animation/Frame_28.png', '../Plots/Animation/Frame_29.png', '../Plots/Animation/Frame_3.png', '../Plots/Animation/Frame_30.png', '../Plots/Animation/Frame_31.png', '../Plots/Animation/Frame_4.png', '../Plots/Animation/Frame_5.png', '../Plots/Animation/Frame_6.png', '../Plots/Animation/Frame_7.png', '../Plots/Animation/Frame_8.png', '../Plots/Animation/Frame_9.png']\n"
     ]
    },
    {
     "name": "stderr",
     "output_type": "stream",
     "text": [
      "/var/folders/l5/_vdjp1yd1753bw0l_w612zzm0000gn/T/ipykernel_1968/3138465185.py:10: DeprecationWarning: Starting with ImageIO v3 the behavior of this function will switch to that of iio.v3.imread. To keep the current behavior (and make this warning disappear) use `import imageio.v2 as imageio` or call `imageio.v2.imread` directly.\n",
      "  image = imageio.imread(filename)\n"
     ]
    }
   ],
   "source": [
    "import imageio\n",
    "import glob\n",
    "\n",
    "# Récupère tous les fichiers image dans l'ordre\n",
    "image_files = sorted(glob.glob(\"../Plots/Animation/Frame_*.png\"))  # adapte le pattern si besoin\n",
    "print(image_files)\n",
    "# Crée le gif\n",
    "with imageio.get_writer(\"heatmap_animation.gif\", mode='I', duration=10) as writer:\n",
    "    for filename in image_files:\n",
    "        image = imageio.imread(filename)\n",
    "        writer.append_data(image)"
   ]
  },
  {
   "cell_type": "code",
   "execution_count": null,
   "id": "e726c2bc",
   "metadata": {},
   "outputs": [],
   "source": []
  }
 ],
 "metadata": {
  "kernelspec": {
   "display_name": "animenv",
   "language": "python",
   "name": "python3"
  },
  "language_info": {
   "codemirror_mode": {
    "name": "ipython",
    "version": 3
   },
   "file_extension": ".py",
   "mimetype": "text/x-python",
   "name": "python",
   "nbconvert_exporter": "python",
   "pygments_lexer": "ipython3",
   "version": "3.13.5"
  }
 },
 "nbformat": 4,
 "nbformat_minor": 5
}
