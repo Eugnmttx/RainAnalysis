{
 "cells": [
  {
   "cell_type": "code",
   "execution_count": 5,
   "id": "6d1b0301",
   "metadata": {},
   "outputs": [
    {
     "name": "stderr",
     "output_type": "stream",
     "text": [
      "/var/folders/l5/_vdjp1yd1753bw0l_w612zzm0000gn/T/ipykernel_3678/3612435001.py:10: FutureWarning: The 'delim_whitespace' keyword in pd.read_csv is deprecated and will be removed in a future version. Use ``sep='\\s+'`` instead\n",
      "  df = pd.read_csv(file_path1, delim_whitespace=True, low_memory=False)\n"
     ]
    }
   ],
   "source": [
    "import pandas as pd\n",
    "\n",
    "Stations = ['Aigle', 'Pully', 'Payerne', 'Fretaz', 'Dole', 'Nyon', 'Moleson','Zermatt']\n",
    "stat_index = 7\n",
    "Format = ['Minutes','Heures']\n",
    "form_index = 0\n",
    "\n",
    "# Importation et fusion des années 80-95 et 95-24\n",
    "file_path1 = '../Database/Precipitations/Data'+Stations[stat_index]+Format[form_index]+'/Data'+Stations[stat_index]+Format[form_index][0]+'8095.txt'\n",
    "df = pd.read_csv(file_path1, delim_whitespace=True, low_memory=False)\n",
    "df.to_csv(file_path1, sep=\";\")"
   ]
  },
  {
   "cell_type": "code",
   "execution_count": null,
   "id": "8bf17f9a",
   "metadata": {},
   "outputs": [],
   "source": []
  }
 ],
 "metadata": {
  "kernelspec": {
   "display_name": "idfenv",
   "language": "python",
   "name": "python3"
  },
  "language_info": {
   "codemirror_mode": {
    "name": "ipython",
    "version": 3
   },
   "file_extension": ".py",
   "mimetype": "text/x-python",
   "name": "python",
   "nbconvert_exporter": "python",
   "pygments_lexer": "ipython3",
   "version": "3.13.5"
  }
 },
 "nbformat": 4,
 "nbformat_minor": 5
}
